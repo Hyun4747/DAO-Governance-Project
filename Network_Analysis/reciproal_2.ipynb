{
 "cells": [
  {
   "cell_type": "code",
   "execution_count": 1,
   "metadata": {},
   "outputs": [],
   "source": [
    "import os\n",
    "import pandas as pd\n",
    "\n",
    "def exploding( file_address ):\n",
    "    df  = pd.read_csv(file_address)\n",
    "    df['proposal_ids'] = df['proposal_ids'].map(lambda x: eval(x))\n",
    "    df['author'] = df['author'].map(lambda x: eval(x))\n",
    "    df['choice'] = df['choice'].map(lambda x: eval(x))\n",
    "    df['pac'] = df.apply(lambda x:list(zip(*[x['proposal_ids'], x['author'], x['choice']])) , axis = 1)\n",
    "\n",
    "    df_e = df.explode('pac').reset_index(drop = True)\n",
    "\n",
    "    df_e['proposal_ids'] = df_e['pac'].map(lambda x: x[0])\n",
    "    df_e['author'] = df_e['pac'].map(lambda x: x[1])\n",
    "    df_e['choice'] = df_e['pac'].map(lambda x: x[2])\n",
    "    \n",
    "    return df_e\n",
    "\n",
    "def find_reciprocal_relationship(df_e):\n",
    "    df_c = df_e[(df_e['voter_address'].isin(df_e['author']) & df_e['voter_address'].isin(df_e['author']))] \n",
    "\n",
    "    df_c_condition1 = df_c[['voter_address','author']].apply(lambda x: str(sorted(x)), axis=1)\n",
    "    df_c_condition2 = df_c[['voter_address','author']].apply(lambda x: str(sorted(x)), axis=1).value_counts()\n",
    "\n",
    "    df_c2 = df_c[df_c_condition1.isin(df_c_condition2[df_c_condition2>1].index)].copy()\n",
    "\n",
    "    df_c2['va_sorted'] = df_c2[['voter_address','author']].apply(lambda x: str(sorted(x)), axis=1)\n",
    "    df_c2['same_as_sorted'] = df_c2['va_sorted'] == df_c2[['voter_address','author']].apply(lambda x: str([x['voter_address'],x['author']]),axis=1)\n",
    "\n",
    "    reciprocal_ids = df_c2.groupby(['va_sorted'])['same_as_sorted'].unique()[df_c2.groupby(['va_sorted'])['same_as_sorted'].unique().map(len) > 1]\n",
    "    \n",
    "    relationship = df_c2[df_c2['va_sorted'].isin(reciprocal_ids.index)]\n",
    "\n",
    "    return relationship\n",
    "    \n"
   ]
  },
  {
   "cell_type": "code",
   "execution_count": null,
   "metadata": {},
   "outputs": [],
   "source": [
    "# Define the directory path\n",
    "directory_path = r\"D:\\DAO_Voting_1101\\Statistics\\voter_stats\\multiple_times_voters\"\n",
    "\n",
    "# Output directory for reciprocal relationships\n",
    "output_directory = r\"D:\\DAO_Voting_1101\\Statistics\\voter_stats\\reciprocity\"\n",
    "\n",
    "# Iterate through each CSV file in the directory\n",
    "for filename in sorted(os.listdir(directory_path))[]:\n",
    "    \n",
    "    if filename.endswith(\".csv\"):\n",
    "        # Read the CSV file\n",
    "        file_path = os.path.join(directory_path, filename)\n",
    "\n",
    "        df_e = exploding(file_path)\n",
    "\n",
    "        relationship = find_reciprocal_relationship(df_e)\n",
    "        relationship_drop = relationship.drop(['unique_authors', 'num_unique_authors', 'pac', 'va_sorted', 'same_as_sorted'], axis=1)\n",
    "        relationship_drop.to_csv(os.path.join(output_directory, f\"{filename.split('.')[0].split('_')[0]}_reciprocal_relationships.csv\"), index=False)\n",
    "\n",
    "    print(f\"Finished processing {filename}\")"
   ]
  }
 ],
 "metadata": {
  "kernelspec": {
   "display_name": "Python 3",
   "language": "python",
   "name": "python3"
  },
  "language_info": {
   "codemirror_mode": {
    "name": "ipython",
    "version": 3
   },
   "file_extension": ".py",
   "mimetype": "text/x-python",
   "name": "python",
   "nbconvert_exporter": "python",
   "pygments_lexer": "ipython3",
   "version": "3.11.8"
  }
 },
 "nbformat": 4,
 "nbformat_minor": 2
}
