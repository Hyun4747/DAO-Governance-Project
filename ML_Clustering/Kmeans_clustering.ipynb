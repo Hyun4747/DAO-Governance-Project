{
 "cells": [
  {
   "cell_type": "code",
   "execution_count": 5,
   "metadata": {},
   "outputs": [
    {
     "name": "stdout",
     "output_type": "stream",
     "text": [
      "Collecting kmodes\n",
      "  Downloading kmodes-0.12.2-py2.py3-none-any.whl (20 kB)\n",
      "Requirement already satisfied: numpy>=1.10.4 in c:\\programdata\\anaconda3\\lib\\site-packages (from kmodes) (1.24.3)\n",
      "Requirement already satisfied: scikit-learn>=0.22.0 in c:\\programdata\\anaconda3\\lib\\site-packages (from kmodes) (1.2.2)\n",
      "Requirement already satisfied: scipy>=0.13.3 in c:\\programdata\\anaconda3\\lib\\site-packages (from kmodes) (1.10.1)\n",
      "Requirement already satisfied: joblib>=0.11 in c:\\programdata\\anaconda3\\lib\\site-packages (from kmodes) (1.2.0)\n",
      "Requirement already satisfied: threadpoolctl>=2.0.0 in c:\\programdata\\anaconda3\\lib\\site-packages (from scikit-learn>=0.22.0->kmodes) (2.2.0)\n",
      "Installing collected packages: kmodes\n",
      "Successfully installed kmodes-0.12.2\n"
     ]
    }
   ],
   "source": [
    "!pip install kmodes"
   ]
  },
  {
   "cell_type": "code",
   "execution_count": 6,
   "metadata": {},
   "outputs": [],
   "source": [
    "import pandas as pd\n",
    "import numpy as np\n",
    "import matplotlib.pyplot as plt\n",
    "from sklearn.cluster import KMeans\n",
    "from sklearn import metrics\n",
    "from sklearn.preprocessing import StandardScaler\n",
    "from sklearn.preprocessing import LabelEncoder\n",
    "from scipy.cluster.hierarchy import dendrogram, linkage\n",
    "import matplotlib.pyplot as plt\n",
    "from kmodes.kmodes import KModes"
   ]
  },
  {
   "cell_type": "code",
   "execution_count": 7,
   "metadata": {},
   "outputs": [
    {
     "data": {
      "text/html": [
       "<div>\n",
       "<style scoped>\n",
       "    .dataframe tbody tr th:only-of-type {\n",
       "        vertical-align: middle;\n",
       "    }\n",
       "\n",
       "    .dataframe tbody tr th {\n",
       "        vertical-align: top;\n",
       "    }\n",
       "\n",
       "    .dataframe thead th {\n",
       "        text-align: right;\n",
       "    }\n",
       "</style>\n",
       "<table border=\"1\" class=\"dataframe\">\n",
       "  <thead>\n",
       "    <tr style=\"text-align: right;\">\n",
       "      <th></th>\n",
       "      <th>voter_address</th>\n",
       "      <th>choice</th>\n",
       "      <th>voting_power</th>\n",
       "      <th>timestamp</th>\n",
       "      <th>relative_time_voting</th>\n",
       "    </tr>\n",
       "  </thead>\n",
       "  <tbody>\n",
       "    <tr>\n",
       "      <th>0</th>\n",
       "      <td>0x213209B1a4530817553BaA1512a37F844A6053D2</td>\n",
       "      <td>1</td>\n",
       "      <td>428571.428600</td>\n",
       "      <td>1691440241</td>\n",
       "      <td>0.000095</td>\n",
       "    </tr>\n",
       "    <tr>\n",
       "      <th>1</th>\n",
       "      <td>0x39eA25C016a3E90E8E72dBBE215a1Ab62429f66F</td>\n",
       "      <td>1</td>\n",
       "      <td>4.309370</td>\n",
       "      <td>1691441681</td>\n",
       "      <td>0.003428</td>\n",
       "    </tr>\n",
       "    <tr>\n",
       "      <th>2</th>\n",
       "      <td>0xc2AcE1E2fEE2d1e4b33261913D89CAF657E99734</td>\n",
       "      <td>1</td>\n",
       "      <td>52.147742</td>\n",
       "      <td>1691447203</td>\n",
       "      <td>0.016211</td>\n",
       "    </tr>\n",
       "    <tr>\n",
       "      <th>3</th>\n",
       "      <td>0xDBaE4A204A9eE579E402c7Cf9F72005eCBf8f8e4</td>\n",
       "      <td>1</td>\n",
       "      <td>58.996172</td>\n",
       "      <td>1691447221</td>\n",
       "      <td>0.016252</td>\n",
       "    </tr>\n",
       "    <tr>\n",
       "      <th>4</th>\n",
       "      <td>0xb7985A153FF4C8fc197b859F6f7979B126Aaa315</td>\n",
       "      <td>1</td>\n",
       "      <td>8.996932</td>\n",
       "      <td>1691448268</td>\n",
       "      <td>0.018676</td>\n",
       "    </tr>\n",
       "    <tr>\n",
       "      <th>...</th>\n",
       "      <td>...</td>\n",
       "      <td>...</td>\n",
       "      <td>...</td>\n",
       "      <td>...</td>\n",
       "      <td>...</td>\n",
       "    </tr>\n",
       "    <tr>\n",
       "      <th>1530</th>\n",
       "      <td>0xBD1f7d88C76A86C60d41bDDD4819fAe404e7151E</td>\n",
       "      <td>1</td>\n",
       "      <td>908.156562</td>\n",
       "      <td>1627615441</td>\n",
       "      <td>0.462501</td>\n",
       "    </tr>\n",
       "    <tr>\n",
       "      <th>1531</th>\n",
       "      <td>0x311F21570ABb9bB7d825c0990975079EF22e9d63</td>\n",
       "      <td>1</td>\n",
       "      <td>814.000000</td>\n",
       "      <td>1627768035</td>\n",
       "      <td>0.588653</td>\n",
       "    </tr>\n",
       "    <tr>\n",
       "      <th>1532</th>\n",
       "      <td>0x68B8259078d18c43Fb02cBaCe669153c3D5fc479</td>\n",
       "      <td>1</td>\n",
       "      <td>1018.568227</td>\n",
       "      <td>1628097877</td>\n",
       "      <td>0.861340</td>\n",
       "    </tr>\n",
       "    <tr>\n",
       "      <th>1533</th>\n",
       "      <td>0x420dEd19628A3A935E71D524C90563AFAd40713B</td>\n",
       "      <td>2</td>\n",
       "      <td>3000.000000</td>\n",
       "      <td>1628144111</td>\n",
       "      <td>0.899563</td>\n",
       "    </tr>\n",
       "    <tr>\n",
       "      <th>1534</th>\n",
       "      <td>0x7a7a5fAD8C4107ED0959191e7Ff36Ba82D4ea2F9</td>\n",
       "      <td>1</td>\n",
       "      <td>0.078124</td>\n",
       "      <td>1628155128</td>\n",
       "      <td>0.908671</td>\n",
       "    </tr>\n",
       "  </tbody>\n",
       "</table>\n",
       "<p>1535 rows × 5 columns</p>\n",
       "</div>"
      ],
      "text/plain": [
       "                                   voter_address  choice   voting_power  \\\n",
       "0     0x213209B1a4530817553BaA1512a37F844A6053D2       1  428571.428600   \n",
       "1     0x39eA25C016a3E90E8E72dBBE215a1Ab62429f66F       1       4.309370   \n",
       "2     0xc2AcE1E2fEE2d1e4b33261913D89CAF657E99734       1      52.147742   \n",
       "3     0xDBaE4A204A9eE579E402c7Cf9F72005eCBf8f8e4       1      58.996172   \n",
       "4     0xb7985A153FF4C8fc197b859F6f7979B126Aaa315       1       8.996932   \n",
       "...                                          ...     ...            ...   \n",
       "1530  0xBD1f7d88C76A86C60d41bDDD4819fAe404e7151E       1     908.156562   \n",
       "1531  0x311F21570ABb9bB7d825c0990975079EF22e9d63       1     814.000000   \n",
       "1532  0x68B8259078d18c43Fb02cBaCe669153c3D5fc479       1    1018.568227   \n",
       "1533  0x420dEd19628A3A935E71D524C90563AFAd40713B       2    3000.000000   \n",
       "1534  0x7a7a5fAD8C4107ED0959191e7Ff36Ba82D4ea2F9       1       0.078124   \n",
       "\n",
       "       timestamp  relative_time_voting  \n",
       "0     1691440241              0.000095  \n",
       "1     1691441681              0.003428  \n",
       "2     1691447203              0.016211  \n",
       "3     1691447221              0.016252  \n",
       "4     1691448268              0.018676  \n",
       "...          ...                   ...  \n",
       "1530  1627615441              0.462501  \n",
       "1531  1627768035              0.588653  \n",
       "1532  1628097877              0.861340  \n",
       "1533  1628144111              0.899563  \n",
       "1534  1628155128              0.908671  \n",
       "\n",
       "[1535 rows x 5 columns]"
      ]
     },
     "execution_count": 7,
     "metadata": {},
     "output_type": "execute_result"
    }
   ],
   "source": [
    "voting_data = pd.read_csv(r'E:\\DAO_Voting_1101\\merged_data_files\\FT\\0xgov.eth_merged_data.csv')\n",
    "cols_list = ['voter_address', 'choice', 'voting_power', 'timestamp', 'relative_time_voting']\n",
    "X = voting_data[cols_list]\n",
    "X"
   ]
  },
  {
   "cell_type": "code",
   "execution_count": 9,
   "metadata": {},
   "outputs": [
    {
     "data": {
      "image/png": "[encoded data removed]",
      "text/plain": [
       "<Figure size 640x480 with 1 Axes>"
      ]
     },
     "metadata": {},
     "output_type": "display_data"
    },
    {
     "name": "stdout",
     "output_type": "stream",
     "text": [
      "Optimal K value: 1\n"
     ]
    }
   ],
   "source": [
    "distortions = []\n",
    "\n",
    "# Calculate distortion for a range of K values\n",
    "K_range = range(1, 11)\n",
    "for k in K_range:\n",
    "    km = KModes(n_clusters=k, init='Huang', n_init=5, verbose=0)\n",
    "    km.fit_predict(X)\n",
    "    distortions.append(km.cost_)\n",
    "\n",
    "# Plot the elbow\n",
    "plt.plot(K_range, distortions, marker='o')\n",
    "plt.xlabel('Number of clusters (K)')\n",
    "plt.ylabel('Distortion')\n",
    "plt.title('Elbow Method for Optimal K')\n",
    "plt.show()\n",
    "\n",
    "optimal_k = np.argmin(np.diff(distortions)) + 1\n",
    "print(\"Optimal K value:\", optimal_k)"
   ]
  }
 ],
 "metadata": {
  "kernelspec": {
   "display_name": "Python 3",
   "language": "python",
   "name": "python3"
  },
  "language_info": {
   "codemirror_mode": {
    "name": "ipython",
    "version": 3
   },
   "file_extension": ".py",
   "mimetype": "text/x-python",
   "name": "python",
   "nbconvert_exporter": "python",
   "pygments_lexer": "ipython3",
   "version": "3.11.3"
  },
  "orig_nbformat": 4
 },
 "nbformat": 4,
 "nbformat_minor": 2
}
